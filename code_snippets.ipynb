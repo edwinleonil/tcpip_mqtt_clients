{
 "cells": [
  {
   "cell_type": "markdown",
   "metadata": {},
   "source": [
    "Separate rows data into multiple columns using the semi-colon as a delimiter"
   ]
  },
  {
   "cell_type": "code",
   "execution_count": 5,
   "metadata": {},
   "outputs": [],
   "source": [
    "import pandas as pd\n",
    "# load csv file into pandas dataframe with new column names\n",
    "df = pd.read_csv('data/data1.csv', names=['data'])\n",
    "\n",
    "# separate rows into columns semicolon delimited\n",
    "df = df['data'].str.split(';', expand=True)\n"
   ]
  },
  {
   "cell_type": "code",
   "execution_count": 4,
   "metadata": {},
   "outputs": [],
   "source": [
    "import yaml\n",
    "\n",
    "with open(\"config.yaml\",'r') as f:\n",
    "    config = yaml.safe_load(f)\n",
    "\n",
    "config[\"ip_address\"] = '172.16.49.197'\n",
    "config[\"port_number\"] = 5000\n",
    "config[\"robot_csv_data_path\"] = 'data/'\n",
    "\n",
    "with open(\"config.yaml\",'w') as f:\n",
    "    yaml.dump(config, f)"
   ]
  }
 ],
 "metadata": {
  "kernelspec": {
   "display_name": "venv",
   "language": "python",
   "name": "python3"
  },
  "language_info": {
   "codemirror_mode": {
    "name": "ipython",
    "version": 3
   },
   "file_extension": ".py",
   "mimetype": "text/x-python",
   "name": "python",
   "nbconvert_exporter": "python",
   "pygments_lexer": "ipython3",
   "version": "3.11.5"
  },
  "orig_nbformat": 4
 },
 "nbformat": 4,
 "nbformat_minor": 2
}
